{
 "cells": [
  {
   "cell_type": "code",
   "execution_count": 1,
   "metadata": {},
   "outputs": [
    {
     "name": "stdout",
     "output_type": "stream",
     "text": [
      "SpaceX Falcon 9 : Satellites Cargo of SpaceX Merlin engine with 7605.0 total thrust\n",
      "SpaceX Dragon 2 : Crew Cargo of SpaceX Raptor engine with 22815.0 total thrust\n",
      "SpaceX Falcon Heavy : ISS supplies Cargo of SpaceX Draco engine with 11900.0 total thrust\n",
      "SpaceX BFR : Mars gear Cargo of SpaceX SuperDraco engine with 574.4 total thrust\n",
      "Blue Origin Goddard : Dummy Cargo of Blue Origin BE-1 engine with 88.2 total thrust\n",
      "Blue Origin PM2 : Suborbital test Cargo of Blue Origin BE-2 engine with 689.0 total thrust\n",
      "Blue Origin New Shepard : Crew Cargo of Blue Origin BE-3 engine with 489.3 total thrust\n",
      "Blue Origin New Glenn : Crew and payloads Cargo of Blue Origin BE-4 engine with 17125.5 total thrust\n",
      "SpaceX Dragon 2 is more powerful than Blue Origin New Shepard\n",
      "Saturn V was more powerful than both modern rockets\n"
     ]
    }
   ],
   "source": [
    "#3\n",
    "sx_merlin_thrust = 845.0\n",
    "sx_raptor_thrust = 1700.0\n",
    "sx_draco_thrust = 0.40\n",
    "sx_superdraco_thrust = 71.0\n",
    "bo_be1_thrust = 9.8\n",
    "bo_be2_thrust = 137.8\n",
    "bo_be3_thrust = 489.3\n",
    "bo_be4_thrust = 2446.5\n",
    "\n",
    "#4\n",
    "sx_falcon9_cargo = 'Cargo of SpaceX Merlin engine'\n",
    "sx_dragon2_cargo = 'Cargo of SpaceX Raptor engine'\n",
    "sx_falconheavy_cargo = 'Cargo of SpaceX Draco engine'\n",
    "sx_bfr_cargo = 'Cargo of SpaceX SuperDraco engine'\n",
    "bo_goddard_cargo = 'Cargo of Blue Origin BE-1 engine'\n",
    "bo_pm2_cargo = 'Cargo of Blue Origin BE-2 engine'\n",
    "bo_newshepard_cargo = 'Cargo of Blue Origin BE-3 engine'\n",
    "bo_newglenn_cargo = 'Cargo of Blue Origin BE-4 engine'\n",
    "sx_falcon9_thrust = 9 * sx_merlin_thrust\n",
    "sx_dragon2_thrust = 27 * sx_merlin_thrust\n",
    "sx_falconheavy_thrust = 7 * sx_raptor_thrust\n",
    "sx_bfr_thrust = 8 * sx_superdraco_thrust + 16*sx_draco_thrust\n",
    "bo_goddard_thrust= 9 * bo_be1_thrust\n",
    "bo_pm2_thrust = 5 * bo_be2_thrust\n",
    "bo_newshepard_thrust = 1 * bo_be3_thrust\n",
    "bo_newglenn_thrust = 7 * bo_be4_thrust\n",
    "\n",
    "#5\n",
    "cargo = ['Satellites', 'Crew', 'ISS supplies', 'Mars gear',\n",
    "         'Dummy', 'Suborbital test', 'Crew', 'Crew and payloads']\n",
    "rocket = ['SpaceX Falcon 9', 'SpaceX Dragon 2', 'SpaceX Falcon Heavy', 'SpaceX BFR',\n",
    "          'Blue Origin Goddard', 'Blue Origin PM2', 'Blue Origin New Shepard', 'Blue Origin New Glenn']\n",
    "total_thrust = [sx_falcon9_thrust, sx_dragon2_thrust, sx_falconheavy_thrust, sx_bfr_thrust,\n",
    "                bo_goddard_thrust, bo_pm2_thrust, bo_newshepard_thrust, bo_newglenn_thrust]\n",
    "var = [sx_falcon9_cargo, sx_dragon2_cargo, sx_falconheavy_cargo, sx_bfr_cargo,\n",
    "       bo_goddard_cargo, bo_pm2_cargo, bo_newshepard_cargo, bo_newglenn_cargo]\n",
    "i=0\n",
    "j=0\n",
    "a=0\n",
    "b=0\n",
    "while i < len(rocket):\n",
    "    while j < len(cargo):\n",
    "        while a < len(total_thrust):\n",
    "            while b< len(var):\n",
    "                print(rocket[i],':', cargo[j], var[b], 'with', total_thrust[a],'total thrust')\n",
    "                i += 1\n",
    "                j += 1\n",
    "                a += 1\n",
    "                b += 1\n",
    "\n",
    "#6\n",
    "if sx_dragon2_thrust > bo_newshepard_thrust:\n",
    "    print('SpaceX Dragon 2 is more powerful than Blue Origin New Shepard')\n",
    "elif sx_dragon2_thrust < bo_newshepard_thrust:\n",
    "    print('Blue Origin New Shepard is more powerful than SpaceX Dragon 2')\n",
    "else:\n",
    "    print('Both have the same total thrust')\n",
    "\n",
    "#7\n",
    "saturn_v_thrust = 35100.0\n",
    "if sx_bfr_thrust > saturn_v_thrust or bo_newglenn_thrust > saturn_v_thrust:\n",
    "    print('Modern rockets are more powerful.')\n",
    "else:\n",
    "    print('Saturn V was more powerful than both modern rockets')"
   ]
  },
  {
   "cell_type": "code",
   "execution_count": null,
   "metadata": {},
   "outputs": [],
   "source": []
  }
 ],
 "metadata": {
  "kernelspec": {
   "display_name": "Python 3",
   "language": "python",
   "name": "python3"
  },
  "language_info": {
   "codemirror_mode": {
    "name": "ipython",
    "version": 3
   },
   "file_extension": ".py",
   "mimetype": "text/x-python",
   "name": "python",
   "nbconvert_exporter": "python",
   "pygments_lexer": "ipython3",
   "version": "3.6.8"
  }
 },
 "nbformat": 4,
 "nbformat_minor": 2
}
